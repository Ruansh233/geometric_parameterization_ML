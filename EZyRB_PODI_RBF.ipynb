{
 "cells": [
  {
   "cell_type": "markdown",
   "metadata": {},
   "source": [
    "### 1. Import libraries"
   ]
  },
  {
   "cell_type": "code",
   "execution_count": 1,
   "metadata": {},
   "outputs": [],
   "source": [
    "from ezyrb import POD, RBF, Database\n",
    "from ezyrb import ReducedOrderModel as ROM\n",
    "\n",
    "from scipy.interpolate import RBFInterpolator\n",
    "from sklearn.preprocessing import StandardScaler\n",
    "from sklearn.model_selection import train_test_split\n",
    "from sklearn.metrics import mean_squared_error\n",
    "import numpy as np\n",
    "np.bool = np.bool_ # to avoid error in pyvista\n",
    "\n",
    "import matplotlib.pyplot as plt\n",
    "\n",
    "from varname import nameof"
   ]
  },
  {
   "cell_type": "markdown",
   "metadata": {},
   "source": [
    "### 2. Read and preprocess of the data"
   ]
  },
  {
   "cell_type": "code",
   "execution_count": 2,
   "metadata": {},
   "outputs": [],
   "source": [
    "# Assuming your data preparation steps are done here\n",
    "num_simulations = 100\n",
    "train_ratio = 0.8\n",
    "\n",
    "# Load npy data from training_data folder\n",
    "pressure_data = np.load('training_data/pressure_data_concat.npy')\n",
    "velocity_data = np.load('training_data/velocity_data_concat.npy')\n",
    "points_data = np.load('training_data/points_data.npy')\n",
    "\n",
    "# Load design parameters from training_data folder\n",
    "design_parameters = np.load('training_data/displacement_data_concat.npy')"
   ]
  },
  {
   "cell_type": "code",
   "execution_count": 3,
   "metadata": {},
   "outputs": [],
   "source": [
    "random_state = 42\n",
    "\n",
    "# randomly spit the data into training and testing data\n",
    "train_pressure, test_pressure = train_test_split(pressure_data, train_size=train_ratio, random_state=random_state)\n",
    "train_velocity, test_velocity = train_test_split(velocity_data, train_size=train_ratio, random_state=random_state)\n",
    "train_design_parameters, test_design_parameters = train_test_split(design_parameters, train_size=train_ratio, random_state=random_state)\n",
    "train_points, test_points = train_test_split(points_data, train_size=train_ratio, random_state=random_state)"
   ]
  },
  {
   "cell_type": "code",
   "execution_count": 4,
   "metadata": {},
   "outputs": [],
   "source": [
    "# delete columns with all zeros in train_design_parameters\n",
    "eliminate_columns = np.all(train_design_parameters == 0, axis=0)\n",
    "train_design_parameters = train_design_parameters[:, ~eliminate_columns]\n",
    "test_design_parameters = test_design_parameters[:, ~eliminate_columns]"
   ]
  },
  {
   "cell_type": "markdown",
   "metadata": {},
   "source": [
    "### 3. POD and plot the truncated energy norm"
   ]
  },
  {
   "cell_type": "markdown",
   "metadata": {},
   "source": [
    "### 4. RBF to interpolate the parameters"
   ]
  },
  {
   "cell_type": "code",
   "execution_count": 5,
   "metadata": {},
   "outputs": [],
   "source": [
    "# Define a funtion to write the data into a VTK file\n",
    "def vtk_writer(field_data, field_name, data_type,\n",
    "               refVTM, save_path_name, points_data = None):\n",
    "    # Add velocity data to each block within the MultiBlock dataset\n",
    "    \n",
    "    for block_i in range(refVTM.n_blocks):\n",
    "        block = refVTM[block_i]\n",
    "        if block is not None:\n",
    "            if data_type == 'scalar':\n",
    "                for data_i in range(len(field_name)):\n",
    "                    block.cell_data[field_name[data_i]] = field_data[data_i]\n",
    "            elif data_type == 'vector':\n",
    "                for data_i in range(len(field_name)):\n",
    "                    field = field_data[data_i].reshape(3, -1).T\n",
    "                    block.cell_data[field_name[data_i]] = field \n",
    "            if points_data is not None:\n",
    "                points = points_data.reshape(3, -1).T\n",
    "                block.points = points\n",
    "\n",
    "    # Save the modified VTM file\n",
    "    output_vtm_file_path = f'{save_path_name}.vtm'\n",
    "    refVTM.save(output_vtm_file_path)"
   ]
  },
  {
   "cell_type": "code",
   "execution_count": 6,
   "metadata": {},
   "outputs": [],
   "source": [
    "# Define a function to evaluate RBF with different parameters\n",
    "def evaluate_rbf(x,y):\n",
    "    # List of kernel functions to test\n",
    "    kernels = ['linear', 'thin_plate_spline', 'cubic', 'quintic', 'multiquadric', 'inverse_multiquadric', 'gaussian']\n",
    "    epsilons = np.logspace(-3, 3, 7)\n",
    "\n",
    "    best_kernel = kernels[0]\n",
    "    best_epsilon = epsilons[0]\n",
    "    best_score = float('inf')\n",
    "    \n",
    "    for kernel in kernels:\n",
    "        for epsilon in epsilons:\n",
    "            # print(f'Kernel: {kernel}, Epsilon: {epsilon}')\n",
    "\n",
    "\n",
    "            # use try to avoid any errors\n",
    "            try:\n",
    "                rbf = RBF(kernel=kernel, epsilon=epsilon)\n",
    "                rbf.fit(x, y)\n",
    "                y_pred = rbf.predict(x)\n",
    "\n",
    "                # Evaluate performance\n",
    "                score = mean_squared_error(y, y_pred)\n",
    "\n",
    "                # print(f'kernel: {kernel}, epsilon: {epsilon}, MSE: {score}')\n",
    "                \n",
    "                # Update the best kernel if current score is better\n",
    "                if score < best_score:\n",
    "                    best_epsilon = epsilon\n",
    "                    best_kernel = kernel\n",
    "                    best_score = score\n",
    "            except:\n",
    "                # print(f'Error occured with kernel: {kernel}, Epsilon: {epsilon}')   \n",
    "                continue         \n",
    "\n",
    "    print(f'Best kernel: {best_kernel}, Best epsilon: {best_epsilon}, Best MSE: {best_score}')\n",
    "    \n",
    "    return best_kernel, best_epsilon"
   ]
  },
  {
   "cell_type": "code",
   "execution_count": 7,
   "metadata": {},
   "outputs": [],
   "source": [
    "def POD_eval(train_data, train_design_parameters, \n",
    "         plot_singular_values=False, epsilon=1e-6):\n",
    "\n",
    "    pod = POD('svd', rank=1-epsilon)\n",
    "    pod.fit(train_data)\n",
    "\n",
    "    print(f'Number of modes: {pod.modes.shape[1]}')\n",
    "\n",
    "    if plot_singular_values:\n",
    "         truncated_energy = 1-np.cumsum(np.square(pod.singular_values))/np.sum(np.square(pod.singular_values))\n",
    "         plt.plot(truncated_energy)\n",
    "         plt.title('truncated_energy')\n",
    "         plt.xlabel('Mode')\n",
    "         plt.ylabel('Relative truncated energy')\n",
    "         plt.yscale('log')\n",
    "         plt.show()\n",
    "\n",
    "    # evaluate the best RBF model\n",
    "    # Scale the data\n",
    "    scaler = StandardScaler()\n",
    "    train_design_parameters_scaled = scaler.fit_transform(train_design_parameters)\n",
    "    best_kernel, best_epsilon = evaluate_rbf(train_design_parameters_scaled, pod.modes)\n",
    "\n",
    "    return pod, best_kernel, best_epsilon, scaler"
   ]
  },
  {
   "cell_type": "code",
   "execution_count": 8,
   "metadata": {},
   "outputs": [],
   "source": [
    "def PODI_rom(pod, best_kernel, best_epsilon, train_design_parameters, train_data):\n",
    "    # Define the RBF model\n",
    "    rbf = RBF(kernel=best_kernel, epsilon=best_epsilon)\n",
    "    # Define the database\n",
    "    db = Database(train_design_parameters, train_data)\n",
    "    # Define the ROM\n",
    "    rom = ROM(db, pod, rbf)\n",
    "    rom.fit()\n",
    "\n",
    "    return rom"
   ]
  },
  {
   "cell_type": "code",
   "execution_count": 9,
   "metadata": {},
   "outputs": [
    {
     "name": "stdout",
     "output_type": "stream",
     "text": [
      "Number of modes: 27\n",
      "Best kernel: gaussian, Best epsilon: 10.0, Best MSE: 7.71248367721209e-39\n"
     ]
    },
    {
     "data": {
      "image/png": "[encoded data removed]",
      "text/plain": [
       "<Figure size 640x480 with 1 Axes>"
      ]
     },
     "metadata": {},
     "output_type": "display_data"
    }
   ],
   "source": [
    "# Perform PODI on the pressure data\n",
    "p_POD, p_kernal, p_epsilon, p_scalar = POD_eval(train_pressure, train_design_parameters, plot_singular_values=False)\n",
    "\n",
    "p_rom = PODI_rom(p_POD, p_kernal, p_epsilon, train_design_parameters, train_pressure)\n",
    "\n",
    "test_design_parameters_scaled = p_scalar.transform(test_design_parameters)\n",
    "p_predict = p_rom.predict(test_design_parameters_scaled)\n",
    "\n",
    "# calculate the reconstrcuted error for each test data using mean squared error\n",
    "p_reconstructed_error = np.linalg.norm(test_pressure - p_predict.snapshots_matrix, axis=1) / np.linalg.norm(test_pressure, axis=1)\n",
    "\n",
    "# plot the error\n",
    "plt.bar([i for i in range(len(p_reconstructed_error))], p_reconstructed_error)\n",
    "plt.title('Pressure reconstructed error')\n",
    "plt.xlabel('Test data')\n",
    "plt.ylabel('Reconstructed error')\n",
    "plt.show()"
   ]
  },
  {
   "cell_type": "code",
   "execution_count": 11,
   "metadata": {},
   "outputs": [
    {
     "name": "stdout",
     "output_type": "stream",
     "text": [
      "Number of modes: 58\n",
      "Best kernel: gaussian, Best epsilon: 10.0, Best MSE: 2.510465790834797e-38\n"
     ]
    },
    {
     "data": {
      "image/png": "[encoded data removed]",
      "text/plain": [
       "<Figure size 640x480 with 1 Axes>"
      ]
     },
     "metadata": {},
     "output_type": "display_data"
    }
   ],
   "source": [
    "# Perform PODI on the pressure data\n",
    "# Best kernel: gaussian, Best epsilon: 10.0\n",
    "u_POD, u_kernal, u_epsilon, u_scalar = POD_eval(train_velocity, train_design_parameters, plot_singular_values=False)\n",
    "\n",
    "u_rom = PODI_rom(u_POD, u_kernal, u_epsilon, train_design_parameters, train_velocity)\n",
    "\n",
    "test_design_parameters_scaled = u_scalar.transform(test_design_parameters)\n",
    "u_predict = u_rom.predict(test_design_parameters_scaled)\n",
    "\n",
    "# calculate the reconstrcuted error for each test data using mean squared error\n",
    "u_reconstructed_error = np.linalg.norm(test_velocity - u_predict.snapshots_matrix, axis=1) / np.linalg.norm(test_velocity, axis=1)\n",
    "\n",
    "# plot the error\n",
    "plt.bar([i for i in range(len(u_reconstructed_error))], u_reconstructed_error)\n",
    "plt.title('Pressure reconstructed error')\n",
    "plt.xlabel('Test data')\n",
    "plt.ylabel('Reconstructed error')\n",
    "plt.show()"
   ]
  },
  {
   "cell_type": "markdown",
   "metadata": {},
   "source": [
    "### 5. VTK visualization"
   ]
  },
  {
   "cell_type": "code",
   "execution_count": null,
   "metadata": {},
   "outputs": [],
   "source": [
    "# write the truth data, reconstructed data, and error into a VTK file\n",
    "# Load the reference mesh VTM file\n",
    "refVTM = pv.MultiBlock('simulation_data/refCase/VTK/refCase_0.vtm')\n",
    "field_name = ['truth', 'reconstructed', 'error']\n",
    "p_error_field = test_pressure - p_predict.snapshots_matrix\n",
    "\n",
    "# loop all test data and write the data into VTK file\n",
    "for i in range(len(test_pressure)):\n",
    "    vtk_writer([test_pressure[i], p_predict.snapshots_matrix[i], p_error_field[i]], \n",
    "                field_name, 'scalar', refVTM, f'visualization_data/EZyRB_PODI_RBF/test_case_{i}_pressure', test_points[i])"
   ]
  },
  {
   "cell_type": "code",
   "execution_count": null,
   "metadata": {},
   "outputs": [],
   "source": [
    "# Write the velocity data into VTK file\n",
    "field_name = ['truth', 'reconstructed', 'error']\n",
    "u_error_field = test_velocity - u_predict.snapshots_matrix\n",
    "\n",
    "# loop all test data and write the data into VTK file\n",
    "for i in range(len(test_velocity)):\n",
    "    vtk_writer([test_velocity[i], u_predict.snapshots_matrix[i], u_error_field[i]], \n",
    "                field_name, 'vector', refVTM, f'visualization_data/EZyRB_PODI_RBF/test_case_{i}_velocity', test_points[i])"
   ]
  }
 ],
 "metadata": {
  "kernelspec": {
   "display_name": "geomParametric",
   "language": "python",
   "name": "python3"
  },
  "language_info": {
   "codemirror_mode": {
    "name": "ipython",
    "version": 3
   },
   "file_extension": ".py",
   "mimetype": "text/x-python",
   "name": "python",
   "nbconvert_exporter": "python",
   "pygments_lexer": "ipython3",
   "version": "3.12.3"
  }
 },
 "nbformat": 4,
 "nbformat_minor": 2
}
