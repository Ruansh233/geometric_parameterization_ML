{
 "cells": [
  {
   "cell_type": "markdown",
   "metadata": {},
   "source": [
    "## 1 - import packages"
   ]
  },
  {
   "cell_type": "code",
   "execution_count": 1,
   "metadata": {},
   "outputs": [],
   "source": [
    "import numpy as np\n",
    "from pygem import FFD\n",
    "from tqdm import trange\n",
    "\n",
    "import smithers.io\n",
    "import smithers.io.openfoam.openfoamhandler"
   ]
  },
  {
   "cell_type": "markdown",
   "metadata": {},
   "source": [
    "## 2 - read **refCase** with ___smithers___ and transfer data to np.ndarray"
   ]
  },
  {
   "cell_type": "code",
   "execution_count": 2,
   "metadata": {},
   "outputs": [
    {
     "name": "stdout",
     "output_type": "stream",
     "text": [
      "Snapshot acqusition in progress...\n",
      "[######################################################################] 100.0 %\n"
     ]
    }
   ],
   "source": [
    "snapshotsData = smithers.io.openfoam.OpenFoamHandler.read(\"simulation_data/refCase\")"
   ]
  },
  {
   "cell_type": "code",
   "execution_count": 3,
   "metadata": {},
   "outputs": [],
   "source": [
    "meshPoints = snapshotsData['0']['points']"
   ]
  },
  {
   "cell_type": "markdown",
   "metadata": {},
   "source": [
    "## 3 - Using **PyGem** to deform the mesh. The write_points and also save to vtk file \n",
    "### 3.1 - define some functions: save_vtk funtions; ffd_save functions\n",
    "### 3.2 - create **FFD** object. Set **FFD** parameters (ctr, weights), as well as NUM_SAMPLES"
   ]
  },
  {
   "cell_type": "code",
   "execution_count": 4,
   "metadata": {},
   "outputs": [],
   "source": [
    "# import vtk\n",
    "\n",
    "# def modify_and_save_vtk_mesh(new_point, ref_mesh_file, new_mesh_file):\n",
    "#     \"\"\"\n",
    "#     Modifies the point coordinates of a VTK mesh using the provided new_point array\n",
    "#     and saves the modified mesh to a new VTK file.\n",
    "\n",
    "#     Args:\n",
    "#         new_point (np.ndarray): A 1D NumPy array containing the modified point coordinates.\n",
    "#         ref_mesh_file (str): Path to the reference VTK mesh file.\n",
    "#         new_mesh_file (str): Path to save the new modified VTK mesh file.\n",
    "#     \"\"\"\n",
    "#     # Read the reference mesh from the VTK file\n",
    "#     reader = vtk.vtkXMLMultiBlockDataReader()\n",
    "#     reader.SetFileName(ref_mesh_file)\n",
    "#     reader.Update()\n",
    "#     ref_mesh = reader.GetOutput()\n",
    "\n",
    "#     # Create a new VTK mesh with the modified points\n",
    "#     new_mesh = vtk.vtkPolyData()\n",
    "#     new_points = vtk.vtkPoints()\n",
    "\n",
    "#     for i in range(len(new_point)):\n",
    "#         new_points.InsertNextPoint(new_point[i])\n",
    "\n",
    "#     new_mesh.SetPoints(new_points)\n",
    "\n",
    "#     # Write the new mesh to a separate VTK file\n",
    "#     writer = vtk.vtkPolyDataWriter()\n",
    "#     writer.SetFileName(new_mesh_file)\n",
    "#     writer.SetInputData(new_mesh)\n",
    "#     writer.Write()"
   ]
  },
  {
   "cell_type": "code",
   "execution_count": 14,
   "metadata": {},
   "outputs": [],
   "source": [
    "# define a function to apply the FFD to a mesh, \n",
    "# the variable of the function are: 1- ffd object , 2- NUM_SAMPLES, 3- displacement ratio, \n",
    "#                                   4- weight matrix, 5-refMeshPoints, 6- refVTKMeshFile\n",
    "\n",
    "def apply_ffd(ffd, NUM_SAMPLES, disp_ratio, weight_matrix, refMeshPoints, save_dir):\n",
    "\n",
    "    # create a empty array to store the displacement data\n",
    "    displacement_data = None\n",
    "\n",
    "    for i in trange(NUM_SAMPLES):\n",
    "        ffd.array_mu_x=disp_ratio*np.random.uniform(-1, 1, size=ffd.array_mu_x.shape)*weight_matrix\n",
    "        ffd.array_mu_y=disp_ratio*np.random.uniform(-1, 1, size=ffd.array_mu_x.shape)*weight_matrix\n",
    "\n",
    "        ffd.array_mu_x[:, :, 0] = ffd.array_mu_x[:, :, 1]\n",
    "        ffd.array_mu_y[:, :, 0] = ffd.array_mu_y[:, :, 1]\n",
    "\n",
    "        new_p = ffd(refMeshPoints)\n",
    "\n",
    "        # save the new mesh points\n",
    "        smithers.io.openfoam.OpenFoamHandler.write_points(new_p, f'{save_dir}/points_{i}', f'{save_dir}/points_ref')\n",
    "\n",
    "        # save the displacement of ffd control points, including array_mu_x, array_mu_y, array_mu_z. \n",
    "        # save them into a npy file\n",
    "        if i == 0:\n",
    "            displacement_data = np.array([ffd.array_mu_x, ffd.array_mu_y, ffd.array_mu_z]).reshape(1, -1)\n",
    "        else:\n",
    "            displacement_data = np.append(displacement_data, \n",
    "                                          np.array([ffd.array_mu_x, ffd.array_mu_y, ffd.array_mu_z]).reshape(1, -1), \n",
    "                                          axis=0)\n",
    "\n",
    "    np.save(f'{save_dir}/displacement_data.npy', displacement_data)"
   ]
  },
  {
   "cell_type": "code",
   "execution_count": 15,
   "metadata": {},
   "outputs": [],
   "source": [
    "# create the FFD object, with control points 5x5x2\n",
    "ffd = FFD([5, 5, 2])\n",
    "\n",
    "# create the bounding box\n",
    "ffd.box_origin = np.array([-0.01, -0.01, -0.001])\n",
    "ffd.box_length = np.array([0.02, 0.02, 0.002])\n",
    "\n",
    "# define the weight matrix. The boundary control points are fixed\n",
    "weights = np.zeros(ffd.array_mu_x.shape)\n",
    "weights[1:-1, 1:-1, :] = 1\n",
    "\n",
    "# define the number of mesh samples, and the displacement ratio for the control points \n",
    "a=0.1\n",
    "NUM_SAMPLES = 100"
   ]
  },
  {
   "cell_type": "code",
   "execution_count": 16,
   "metadata": {},
   "outputs": [
    {
     "name": "stderr",
     "output_type": "stream",
     "text": [
      "100%|██████████| 100/100 [00:02<00:00, 39.51it/s]\n"
     ]
    }
   ],
   "source": [
    "# apply the FFD to the mesh points\n",
    "\n",
    "apply_ffd(ffd, NUM_SAMPLES, a, weights, meshPoints, \"mesh_data\")"
   ]
  }
 ],
 "metadata": {
  "kernelspec": {
   "display_name": "geomParametric",
   "language": "python",
   "name": "python3"
  },
  "language_info": {
   "codemirror_mode": {
    "name": "ipython",
    "version": 3
   },
   "file_extension": ".py",
   "mimetype": "text/x-python",
   "name": "python",
   "nbconvert_exporter": "python",
   "pygments_lexer": "ipython3",
   "version": "3.12.2"
  }
 },
 "nbformat": 4,
 "nbformat_minor": 2
}
